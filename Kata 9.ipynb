{
 "cells": [
  {
   "cell_type": "markdown",
   "metadata": {},
   "source": [
    "KATA #9 \n",
    "EJERCICIO 1 \n",
    "\n"
   ]
  },
  {
   "cell_type": "code",
   "execution_count": 27,
   "metadata": {},
   "outputs": [
    {
     "name": "stdout",
     "output_type": "stream",
     "text": [
      "El reporte es:\n",
      "    total: 103.66666666666667\n",
      "    tanque1: 55\n",
      "    tanque2: 22\n",
      "    tanque3: 80\n",
      "\n",
      "\n",
      "    \n"
     ]
    }
   ],
   "source": [
    "def informe (tanque_1, tanque_2,tanque_3):\n",
    "    promedio = (tanque_1 + tanque_2 + tanque_3 / 3)\n",
    "    return f\"\"\"El reporte es:\n",
    "    total: {promedio}\n",
    "    tanque1: {tanque_1}\n",
    "    tanque2: {tanque_2}\n",
    "    tanque3: {tanque_3}\n",
    "\n",
    "\n",
    "    \"\"\"\n",
    "print(informe(55,22,80))\n",
    "\n",
    "    \n",
    " \n",
    "\n",
    "\n"
   ]
  }
 ],
 "metadata": {
  "interpreter": {
   "hash": "32e5c81cb7bd690c77d4fb8f8a344b0dbbd6643abb37dbd940c42d1e77549198"
  },
  "kernelspec": {
   "display_name": "Python 3.9.6 64-bit",
   "language": "python",
   "name": "python3"
  },
  "language_info": {
   "codemirror_mode": {
    "name": "ipython",
    "version": 3
   },
   "file_extension": ".py",
   "mimetype": "text/x-python",
   "name": "python",
   "nbconvert_exporter": "python",
   "pygments_lexer": "ipython3",
   "version": "3.9.6"
  },
  "orig_nbformat": 4
 },
 "nbformat": 4,
 "nbformat_minor": 2
}
