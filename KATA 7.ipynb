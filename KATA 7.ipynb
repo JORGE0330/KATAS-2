{
 "cells": [
  {
   "cell_type": "markdown",
   "metadata": {},
   "source": [
    "KATA #7"
   ]
  },
  {
   "cell_type": "code",
   "execution_count": null,
   "metadata": {},
   "outputs": [],
   "source": [
    "planeta = ''\n",
    "planetas = []\n",
    "while planeta.lower() !='done':\n",
    "     if planeta:\n",
    "          planetas.append(planeta)\n",
    "     planeta = input('Escribe un nuevo planeta ')\n",
    "for planeta in planetas:\n",
    "          print(planeta)\n",
    "\n",
    "\n",
    "    \n"
   ]
  }
 ],
 "metadata": {
  "interpreter": {
   "hash": "32e5c81cb7bd690c77d4fb8f8a344b0dbbd6643abb37dbd940c42d1e77549198"
  },
  "kernelspec": {
   "display_name": "Python 3.9.6 64-bit",
   "language": "python",
   "name": "python3"
  },
  "language_info": {
   "codemirror_mode": {
    "name": "ipython",
    "version": 3
   },
   "file_extension": ".py",
   "mimetype": "text/x-python",
   "name": "python",
   "nbconvert_exporter": "python",
   "pygments_lexer": "ipython3",
   "version": "3.9.6"
  },
  "orig_nbformat": 4
 },
 "nbformat": 4,
 "nbformat_minor": 2
}
