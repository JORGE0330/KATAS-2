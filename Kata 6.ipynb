{
 "cells": [
  {
   "cell_type": "markdown",
   "metadata": {},
   "source": [
    "KATA #6 \n",
    "EJERCICIO 1 "
   ]
  },
  {
   "cell_type": "code",
   "execution_count": 13,
   "metadata": {},
   "outputs": [
    {
     "name": "stdout",
     "output_type": "stream",
     "text": [
      "Son 8 planetas los cuales som:['Merucurio', 'Venus', 'Tierra', 'Narte', 'Jupiter', 'Saturno', 'Urano', 'Neptuno']\n",
      "El ultimo planeta que agregamos a la lista es :Pluton\n"
     ]
    }
   ],
   "source": [
    "Planetas = ['Merucurio', 'Venus', 'Tierra', 'Narte', 'Jupiter', 'Saturno', 'Urano', 'Neptuno']\n",
    "print('Son', len(Planetas), 'planetas los cuales som:'+str(Planetas) )\n",
    "#Aqui agragaremos a la lista de planetas a Pluton \n",
    "\n",
    "Planetas.append('Pluton')\n",
    "print('El ultimo planeta que agregamos a la lista es: '+ str (Planetas[-1]))\n"
   ]
  },
  {
   "cell_type": "markdown",
   "metadata": {},
   "source": [
    "EJERCICIO 2 \n",
    "KATA #6"
   ]
  },
  {
   "cell_type": "code",
   "execution_count": 45,
   "metadata": {},
   "outputs": [
    {
     "name": "stdout",
     "output_type": "stream",
     "text": [
      "La tierra es el el tercer planeta dentro de mi lista \n",
      "['mercurio', 'venus', 'tierra', 'marte', 'jupiter', 'saturno', 'neptuno']\n",
      "Losp planetas antes de marte\n",
      "['mercurio', 'venus', 'tierra']\n",
      "Los planetas delante de marte son\n",
      "['jupiter', 'saturno', 'neptuno']\n"
     ]
    }
   ],
   "source": [
    "Posciones = Planetas.index('Tierra')\n",
    "print('La tierra es el el tercer planeta dentro de mi lista ')\n",
    "\n",
    "\n",
    "planetas = ['mercurio', 'venus', 'tierra', 'marte', 'jupiter', 'saturno', 'neptuno']\n",
    "print(planetas)\n",
    "entrada_datos = input('Escribe un planeta de la lista mostrada')\n",
    "# Busca el planeta en la lista\n",
    "\n",
    "Poscion = planetas.index(entrada_datos)\n",
    "\n",
    "\n",
    "print('Losp planetas antes de ' + entrada_datos)\n",
    "print(planetas[0:Poscion])\n",
    "\n",
    "\n",
    "print('Los planetas delante de ' + entrada_datos + ' son')\n",
    "print(planetas[Poscion +1:])\n",
    "\n",
    "\n",
    "\n"
   ]
  }
 ],
 "metadata": {
  "interpreter": {
   "hash": "32e5c81cb7bd690c77d4fb8f8a344b0dbbd6643abb37dbd940c42d1e77549198"
  },
  "kernelspec": {
   "display_name": "Python 3.9.6 64-bit",
   "language": "python",
   "name": "python3"
  },
  "language_info": {
   "codemirror_mode": {
    "name": "ipython",
    "version": 3
   },
   "file_extension": ".py",
   "mimetype": "text/x-python",
   "name": "python",
   "nbconvert_exporter": "python",
   "pygments_lexer": "ipython3",
   "version": "3.9.6"
  },
  "orig_nbformat": 4
 },
 "nbformat": 4,
 "nbformat_minor": 2
}
