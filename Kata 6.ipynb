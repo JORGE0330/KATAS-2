{
 "cells": [
  {
   "cell_type": "markdown",
   "metadata": {},
   "source": [
    "KATA #6"
   ]
  },
  {
   "cell_type": "code",
   "execution_count": 8,
   "metadata": {},
   "outputs": [
    {
     "name": "stdout",
     "output_type": "stream",
     "text": [
      "Son 8 planetas\n",
      "Son 9 planetas + pluton\n",
      "pluton es el ultimo palneta del sistema solar\n"
     ]
    }
   ],
   "source": [
    "#CREACION DE DE LISTA \n",
    "planets = ['Mercurio', 'Venus', 'Tierra', 'Marte', 'Jupiter', 'Saturno', 'Urano', 'Neptuno']\n",
    "print ('Son', len(planets), 'planetas')\n",
    "#AGREGAMOS A PLUTON COMO NOVENO PLANETA \n",
    "planets.append('pluton')\n",
    "print ('Son', len(planets),'planetas','+ pluton')\n",
    "print (planets[-1],'es el ultimo palneta del sistema solar')"
   ]
  }
 ],
 "metadata": {
  "interpreter": {
   "hash": "bd17760987877c45a210416bb3c3a6573e0fdea71b0ccf31fadd83bb49e6e31f"
  },
  "kernelspec": {
   "display_name": "Python 3.9.10 ('entorno': venv)",
   "language": "python",
   "name": "python3"
  },
  "language_info": {
   "codemirror_mode": {
    "name": "ipython",
    "version": 3
   },
   "file_extension": ".py",
   "mimetype": "text/x-python",
   "name": "python",
   "nbconvert_exporter": "python",
   "pygments_lexer": "ipython3",
   "version": "3.9.6"
  },
  "orig_nbformat": 4
 },
 "nbformat": 4,
 "nbformat_minor": 2
}
