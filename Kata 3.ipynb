{
 "cells": [
  {
   "cell_type": "markdown",
   "metadata": {},
   "source": [
    "KATA 3 USO DE IF/ELSE"
   ]
  },
  {
   "cell_type": "code",
   "execution_count": 2,
   "metadata": {},
   "outputs": [
    {
     "name": "stdout",
     "output_type": "stream",
     "text": [
      "ALERTA METEORITO ACERCAMDOSE A ALTA VELOCIDAD\n"
     ]
    }
   ],
   "source": [
    "asteroide = 100\n",
    "if(asteroide>=100):\n",
    "    print('ALERTA METEORITO ACERCAMDOSE A ALTA VELOCIDAD')\n",
    "else:\n",
    "    print('Todo bajo control')\n"
   ]
  },
  {
   "cell_type": "markdown",
   "metadata": {},
   "source": [
    "VARIABLE QUE GUARDA LA VELOCIDAD DEL ASTEROIDE \n"
   ]
  },
  {
   "cell_type": "code",
   "execution_count": 4,
   "metadata": {},
   "outputs": [
    {
     "name": "stdout",
     "output_type": "stream",
     "text": [
      "Mira hacia arriba! ¡Hay una luz mágica en el cielo!\n"
     ]
    }
   ],
   "source": [
    "meteorito = 40\n",
    "if meteorito >= 20:\n",
    "    print('Mira hacia arriba! ¡Hay una luz mágica en el cielo!')\n",
    "else:\n",
    "    print('No se ve nada en el cielo')"
   ]
  }
 ],
 "metadata": {
  "interpreter": {
   "hash": "bd17760987877c45a210416bb3c3a6573e0fdea71b0ccf31fadd83bb49e6e31f"
  },
  "kernelspec": {
   "display_name": "Python 3.9.10 ('entorno': venv)",
   "language": "python",
   "name": "python3"
  },
  "language_info": {
   "codemirror_mode": {
    "name": "ipython",
    "version": 3
   },
   "file_extension": ".py",
   "mimetype": "text/x-python",
   "name": "python",
   "nbconvert_exporter": "python",
   "pygments_lexer": "ipython3",
   "version": "3.9.10"
  },
  "orig_nbformat": 4
 },
 "nbformat": 4,
 "nbformat_minor": 2
}
