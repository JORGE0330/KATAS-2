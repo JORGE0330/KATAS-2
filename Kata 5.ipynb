{
 "cells": [
  {
   "cell_type": "markdown",
   "metadata": {},
   "source": [
    "KATA 5 \n",
    "EJERCICIO 1 \n",
    "Exploremos cómo podemos crear un programa que pueda calcular la distancia entre dos planetas.  Comenzaremos usando dos distancias de planetas: Tierra (149.597.870 km) y Júpiter (778.547.200 km)."
   ]
  },
  {
   "cell_type": "code",
   "execution_count": 13,
   "metadata": {},
   "outputs": [
    {
     "name": "stdout",
     "output_type": "stream",
     "text": [
      "628949330\n",
      "390577533.93\n"
     ]
    }
   ],
   "source": [
    "#DISTANCIA ENTRE PLANETAS \n",
    "Tierra =int (149597870)\n",
    "Jupiter =int (778547200)\n",
    "distancia =(Tierra - Jupiter)\n",
    "print(abs(distancia))\n",
    "dist_milla = distancia *float (0.621)\n",
    "print(abs(dist_milla))\n",
    "\n",
    "\n",
    "\n"
   ]
  },
  {
   "cell_type": "markdown",
   "metadata": {},
   "source": [
    "#EJERCICIO 2 \n",
    "Utilizar Input "
   ]
  },
  {
   "cell_type": "code",
   "execution_count": 19,
   "metadata": {},
   "outputs": [],
   "source": [
    "#INTRODUCIENDO DATOS \n",
    "planeta_uno = input(\"Ingresa la distancia del planeta 1 \")\n",
    "planeta_dos =input(\"Ingresa la distancia del paneta 2\")\n",
    "\n"
   ]
  },
  {
   "cell_type": "code",
   "execution_count": 20,
   "metadata": {},
   "outputs": [
    {
     "name": "stdout",
     "output_type": "stream",
     "text": [
      "200\n",
      "124.2\n"
     ]
    }
   ],
   "source": [
    "#Coviertiendo a datos enteros y haciendo el calculo\n",
    "planeta_uno = int(planeta_uno)\n",
    "planeta_dos = int(planeta_dos)\n",
    "distancia_km = (planeta_dos - planeta_uno)\n",
    "print (abs(distancia_km))\n",
    "#Covirtiendo km en millas \n",
    "dist_mi = distancia_km * float(0.621)\n",
    "print (dist_mi)\n",
    "\n"
   ]
  },
  {
   "cell_type": "code",
   "execution_count": null,
   "metadata": {},
   "outputs": [],
   "source": []
  }
 ],
 "metadata": {
  "interpreter": {
   "hash": "32e5c81cb7bd690c77d4fb8f8a344b0dbbd6643abb37dbd940c42d1e77549198"
  },
  "kernelspec": {
   "display_name": "Python 3.9.6 64-bit",
   "language": "python",
   "name": "python3"
  },
  "language_info": {
   "codemirror_mode": {
    "name": "ipython",
    "version": 3
   },
   "file_extension": ".py",
   "mimetype": "text/x-python",
   "name": "python",
   "nbconvert_exporter": "python",
   "pygments_lexer": "ipython3",
   "version": "3.9.6"
  },
  "orig_nbformat": 4
 },
 "nbformat": 4,
 "nbformat_minor": 2
}
