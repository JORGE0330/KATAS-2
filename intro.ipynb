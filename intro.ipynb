{
 "cells": [
  {
   "cell_type": "code",
   "execution_count": 6,
   "metadata": {},
   "outputs": [
    {
     "name": "stdout",
     "output_type": "stream",
     "text": [
      "Hola mundo\n"
     ]
    }
   ],
   "source": [
    "msg = 'Hola mundo'\n",
    "print (msg)\n"
   ]
  },
  {
   "cell_type": "code",
   "execution_count": 14,
   "metadata": {},
   "outputs": [
    {
     "name": "stdout",
     "output_type": "stream",
     "text": [
      "Muestra la cantidad de leche1.5\n",
      "La cantidad es correcta \n"
     ]
    }
   ],
   "source": [
    "titulo = 'Programando hot cakes'\n",
    "huevo = 3\n",
    "leche = 1.5\n",
    "mantequilla =0.097\n",
    "harina = 3\n",
    "cdtvainilla = 0.5\n",
    "print ('Muestra la cantidad de leche'+str(leche))\n",
    "\n",
    "if (huevo== 3):\n",
    "    print ('La cantidad es correcta ')\n",
    "elif (leche == 1.5 ):\n",
    "    print ('La cantidad de leche es correcta')\n",
    "\n",
    "\n",
    "\n",
    "        \n"
   ]
  },
  {
   "cell_type": "code",
   "execution_count": null,
   "metadata": {},
   "outputs": [],
   "source": []
  }
 ],
 "metadata": {
  "interpreter": {
   "hash": "f390fdf2486fe090c6fd6b92d11c1685e95b11906b574d66e65dfe06161c49c7"
  },
  "kernelspec": {
   "display_name": "Python 3.9.10 64-bit (windows store)",
   "language": "python",
   "name": "python3"
  },
  "language_info": {
   "codemirror_mode": {
    "name": "ipython",
    "version": 3
   },
   "file_extension": ".py",
   "mimetype": "text/x-python",
   "name": "python",
   "nbconvert_exporter": "python",
   "pygments_lexer": "ipython3",
   "version": "3.9.10"
  },
  "orig_nbformat": 4
 },
 "nbformat": 4,
 "nbformat_minor": 2
}
